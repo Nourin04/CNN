{
  "nbformat": 4,
  "nbformat_minor": 0,
  "metadata": {
    "colab": {
      "provenance": []
    },
    "kernelspec": {
      "name": "python3",
      "display_name": "Python 3"
    },
    "language_info": {
      "name": "python"
    }
  },
  "cells": [
    {
      "cell_type": "code",
      "execution_count": 6,
      "metadata": {
        "id": "SfIwNQNOQq-b"
      },
      "outputs": [],
      "source": [
        "import torch\n",
        "from torchvision import datasets, transforms\n",
        "from torch.utils.data import DataLoader\n",
        "import torch.nn as nn\n",
        "import torch.nn.functional as F\n",
        "import torch.optim as optim"
      ]
    },
    {
      "cell_type": "markdown",
      "source": [
        "Define transformations with Data Augmentation"
      ],
      "metadata": {
        "id": "ZO6uP26o3cxT"
      }
    },
    {
      "cell_type": "code",
      "source": [
        "from torchvision import transforms\n",
        "\n",
        "# Define the transformation pipeline for training data\n",
        "transform_train = transforms.Compose([\n",
        "    # Randomly flip the image horizontally with a probability of 0.5\n",
        "    transforms.RandomHorizontalFlip(),\n",
        "\n",
        "    # Randomly crop the image to 32x32 pixels with 4 pixels of padding on each side\n",
        "    # This helps introduce positional variation and prevent overfitting\n",
        "    transforms.RandomCrop(32, padding=4),\n",
        "\n",
        "    # Convert the image to a PyTorch tensor (C x H x W format, and values in [0,1])\n",
        "    transforms.ToTensor(),\n",
        "\n",
        "    # Normalize the tensor with mean and std deviation of (0.5, 0.5, 0.5) for each RGB channel\n",
        "    # This centers the data around 0 and scales it to [-1, 1] range\n",
        "    transforms.Normalize((0.5, 0.5, 0.5), (0.5, 0.5, 0.5))\n",
        "])\n",
        "\n",
        "# Define the transformation pipeline for test/validation data\n",
        "transform_test = transforms.Compose([\n",
        "    # Convert the image to a PyTorch tensor\n",
        "    transforms.ToTensor(),\n",
        "\n",
        "    # Normalize the tensor in the same way as training data for consistency\n",
        "    transforms.Normalize((0.5, 0.5, 0.5), (0.5, 0.5, 0.5))\n",
        "])\n"
      ],
      "metadata": {
        "id": "EuWMxPOs3a0F"
      },
      "execution_count": 2,
      "outputs": []
    },
    {
      "cell_type": "markdown",
      "source": [
        "Load the CIFAR-10 dataset"
      ],
      "metadata": {
        "id": "g2Mx4bKu4ILB"
      }
    },
    {
      "cell_type": "code",
      "source": [
        "train_dataset=datasets.CIFAR10(root='./data', train=True, download=True, transform=transform_train)\n",
        "test_dataset=datasets.CIFAR10(root='./data', train=False, download=True, transform=transform_test)\n",
        "\n",
        "#Data Loaders\n",
        "train_loader=DataLoader(train_dataset, batch_size=64, shuffle=True)\n",
        "test_loader=DataLoader(test_dataset, batch_size=64, shuffle=False)"
      ],
      "metadata": {
        "colab": {
          "base_uri": "https://localhost:8080/"
        },
        "id": "s2Njqoaf4HcJ",
        "outputId": "9f0ebe7c-3886-4669-8bf8-f298a6983666"
      },
      "execution_count": 3,
      "outputs": [
        {
          "output_type": "stream",
          "name": "stderr",
          "text": [
            "100%|██████████| 170M/170M [00:03<00:00, 43.5MB/s]\n"
          ]
        }
      ]
    },
    {
      "cell_type": "code",
      "source": [
        "print(f'Training data size: {len(train_dataset)}')\n",
        "print(f'Test data size: {len(test_dataset)}')"
      ],
      "metadata": {
        "colab": {
          "base_uri": "https://localhost:8080/"
        },
        "id": "phaTNnc44cEX",
        "outputId": "126f9081-db2b-4b0b-8fd2-aa72943d37e9"
      },
      "execution_count": 5,
      "outputs": [
        {
          "output_type": "stream",
          "name": "stdout",
          "text": [
            "Training data size: 50000\n",
            "Test data size: 10000\n"
          ]
        }
      ]
    },
    {
      "cell_type": "markdown",
      "source": [
        "Define CNN Architecture"
      ],
      "metadata": {
        "id": "ZsHtOXYn4wx0"
      }
    },
    {
      "cell_type": "code",
      "source": [
        "class EnhancedCnn(nn.Module):\n",
        "    def __init__(self):\n",
        "        super(EnhancedCnn, self).__init__()\n",
        "\n",
        "        # First convolutional layer: input channels = 3 (RGB), output channels = 6, kernel size = 5x5\n",
        "        self.conv1 = nn.Conv2d(in_channels=3, out_channels=6, kernel_size=5)\n",
        "\n",
        "        # Batch normalization after conv1\n",
        "        self.bn1 = nn.BatchNorm2d(6)\n",
        "\n",
        "        # Second convolutional layer: input channels = 6, output channels = 16, kernel size = 5x5\n",
        "        self.conv2 = nn.Conv2d(in_channels=6, out_channels=16, kernel_size=5)\n",
        "\n",
        "        # Batch normalization after conv2\n",
        "        self.bn2 = nn.BatchNorm2d(16)\n",
        "\n",
        "        # Max pooling layer: 2x2 window, stride 2\n",
        "        self.pool = nn.MaxPool2d(kernel_size=2, stride=2)\n",
        "\n",
        "        # Dropout layer with 50% drop rate to reduce overfitting\n",
        "        self.dropout = nn.Dropout(p=0.5)\n",
        "\n",
        "        # Dynamically calculate the output size after convolution and pooling to set input size for first FC layer\n",
        "        self._calculate_conv_output()\n",
        "\n",
        "        # Fully connected layers\n",
        "        self.fc1 = nn.Linear(self.conv_output_size, 120)\n",
        "        self.fc2 = nn.Linear(120, 84)\n",
        "        self.fc3 = nn.Linear(84, 10)  # Output layer for 10 classes (e.g., CIFAR-10)\n",
        "\n",
        "    def _calculate_conv_output(self):\n",
        "        # Create a dummy input tensor simulating a single 3x32x32 image\n",
        "        dummy_input = torch.zeros(1, 3, 32, 32)\n",
        "\n",
        "        with torch.no_grad():\n",
        "            # Pass dummy input through the convolution and pooling layers\n",
        "            output = self.pool(F.relu(self.bn2(self.conv2(F.relu(self.bn1(self.conv1(dummy_input)))))))\n",
        "\n",
        "        # Compute the number of features after flattening\n",
        "        self.conv_output_size = output.numel()  # Total number of elements (C x H x W)\n",
        "\n",
        "    def forward(self, x):\n",
        "        # Pass input through first convolutional layer + batch norm + ReLU\n",
        "        x = F.relu(self.bn1(self.conv1(x)))\n",
        "\n",
        "        # Pass through second convolutional layer + batch norm + ReLU, then apply max pooling\n",
        "        x = self.pool(F.relu(self.bn2(self.conv2(x))))\n",
        "\n",
        "        # Flatten the output for the fully connected layers\n",
        "        x = x.view(x.size(0), -1)\n",
        "\n",
        "        # Fully connected layer 1 + ReLU\n",
        "        x = F.relu(self.fc1(x))\n",
        "\n",
        "        # Apply dropout for regularization\n",
        "        x = self.dropout(x)\n",
        "\n",
        "        # Fully connected layer 2 + ReLU\n",
        "        x = F.relu(self.fc2(x))\n",
        "\n",
        "        # Final output layer (no activation — logits returned)\n",
        "        x = self.fc3(x)\n",
        "\n",
        "        return x\n"
      ],
      "metadata": {
        "id": "bhnZ9ueP4ipx"
      },
      "execution_count": 8,
      "outputs": []
    },
    {
      "cell_type": "code",
      "source": [
        "model=EnhancedCnn()\n",
        "print(model)"
      ],
      "metadata": {
        "colab": {
          "base_uri": "https://localhost:8080/"
        },
        "id": "ebaELW4Z7rQN",
        "outputId": "c59c341d-fc26-4b90-8ce0-d139c1cb52d2"
      },
      "execution_count": 9,
      "outputs": [
        {
          "output_type": "stream",
          "name": "stdout",
          "text": [
            "EnhancedCnn(\n",
            "  (conv1): Conv2d(3, 6, kernel_size=(5, 5), stride=(1, 1))\n",
            "  (bn1): BatchNorm2d(6, eps=1e-05, momentum=0.1, affine=True, track_running_stats=True)\n",
            "  (conv2): Conv2d(6, 16, kernel_size=(5, 5), stride=(1, 1))\n",
            "  (bn2): BatchNorm2d(16, eps=1e-05, momentum=0.1, affine=True, track_running_stats=True)\n",
            "  (pool): MaxPool2d(kernel_size=2, stride=2, padding=0, dilation=1, ceil_mode=False)\n",
            "  (dropout): Dropout(p=0.5, inplace=False)\n",
            "  (fc1): Linear(in_features=2304, out_features=120, bias=True)\n",
            "  (fc2): Linear(in_features=120, out_features=84, bias=True)\n",
            "  (fc3): Linear(in_features=84, out_features=10, bias=True)\n",
            ")\n"
          ]
        }
      ]
    },
    {
      "cell_type": "markdown",
      "source": [
        "Defining loss function and Optimizer"
      ],
      "metadata": {
        "id": "AFqvDApj8Fqi"
      }
    },
    {
      "cell_type": "code",
      "source": [
        "import torch.nn as nn\n",
        "import torch.optim as optim\n",
        "\n",
        "# Define the loss function: CrossEntropyLoss is suitable for multi-class classification\n",
        "criterion = nn.CrossEntropyLoss()\n",
        "\n",
        "# Define the optimizer: Adam is an adaptive learning rate optimizer\n",
        "optimizer = optim.Adam(model.parameters(), lr=0.001)\n",
        "\n",
        "# List to store the loss value for each epoch\n",
        "training_loss = []\n",
        "\n",
        "# Training loop function\n",
        "def train_model(model, train_loader, criterion, optimizer, epochs=20):\n",
        "    # Set the model to training mode (important for layers like Dropout and BatchNorm)\n",
        "    model.train()\n",
        "\n",
        "    for epoch in range(epochs):\n",
        "        running_loss = 0.0  # Accumulates loss for this epoch\n",
        "\n",
        "        # Iterate over batches of images and their corresponding labels\n",
        "        for images, labels in train_loader:\n",
        "            # Zero the parameter gradients to avoid accumulation\n",
        "            optimizer.zero_grad()\n",
        "\n",
        "            # Forward pass: compute the model output\n",
        "            outputs = model(images)\n",
        "\n",
        "            # Compute the loss between predicted and actual labels\n",
        "            loss = criterion(outputs, labels)\n",
        "\n",
        "            # Backward pass: compute gradients\n",
        "            loss.backward()\n",
        "\n",
        "            # Update model weights\n",
        "            optimizer.step()\n",
        "\n",
        "            # Add the current batch loss to running total\n",
        "            running_loss += loss.item()\n",
        "\n",
        "        # Average loss for the epoch\n",
        "        epoch_loss = running_loss / len(train_loader)\n",
        "\n",
        "        # Store the epoch loss for plotting or analysis\n",
        "        training_loss.append(epoch_loss)\n",
        "\n",
        "        # Print the loss for the current epoch\n",
        "        print(f'Epoch {epoch+1}/{epochs}, Loss: {epoch_loss:.4f}')\n"
      ],
      "metadata": {
        "id": "iRKuq5Ys8AAA"
      },
      "execution_count": 10,
      "outputs": []
    },
    {
      "cell_type": "code",
      "source": [
        "train_model(model, train_loader, criterion, optimizer)"
      ],
      "metadata": {
        "colab": {
          "base_uri": "https://localhost:8080/"
        },
        "id": "PuKDnblR89Ap",
        "outputId": "b1b40055-f66a-4cb1-a6ad-2f27ad4c3cf7"
      },
      "execution_count": 11,
      "outputs": [
        {
          "output_type": "stream",
          "name": "stdout",
          "text": [
            "Epoch 1/20, Loss: 1.7841\n",
            "Epoch 2/20, Loss: 1.5866\n",
            "Epoch 3/20, Loss: 1.5126\n",
            "Epoch 4/20, Loss: 1.4572\n",
            "Epoch 5/20, Loss: 1.4105\n",
            "Epoch 6/20, Loss: 1.3861\n",
            "Epoch 7/20, Loss: 1.3599\n",
            "Epoch 8/20, Loss: 1.3400\n",
            "Epoch 9/20, Loss: 1.3220\n",
            "Epoch 10/20, Loss: 1.3112\n",
            "Epoch 11/20, Loss: 1.3044\n",
            "Epoch 12/20, Loss: 1.2942\n",
            "Epoch 13/20, Loss: 1.2876\n",
            "Epoch 14/20, Loss: 1.2781\n",
            "Epoch 15/20, Loss: 1.2697\n",
            "Epoch 16/20, Loss: 1.2565\n",
            "Epoch 17/20, Loss: 1.2602\n",
            "Epoch 18/20, Loss: 1.2453\n",
            "Epoch 19/20, Loss: 1.2465\n",
            "Epoch 20/20, Loss: 1.2418\n"
          ]
        }
      ]
    },
    {
      "cell_type": "markdown",
      "source": [
        "Evaluation Loop"
      ],
      "metadata": {
        "id": "5oNsgOBe9BLY"
      }
    },
    {
      "cell_type": "code",
      "source": [
        "def evaluate_model(model, test_loader):\n",
        "  model.eval()\n",
        "\n",
        "  correct=0\n",
        "  total=0\n",
        "\n",
        "  with torch.no_grad():\n",
        "    for images, labels in test_loader:\n",
        "      outputs=model(images)\n",
        "      _, predicted=torch.max(outputs, 1)\n",
        "      total+=labels.size(0)\n",
        "      correct+=(predicted==labels).sum().item()\n",
        "\n",
        "  print(f'Accuracy on the test set: {100*correct/total}%')\n",
        "\n",
        "\n",
        "\n",
        "evaluate_model(model, test_loader)\n",
        "\n",
        "import matplotlib.pyplot as plt\n",
        "plt.plot(training_loss)\n",
        "plt.xlabel('Epochs')\n",
        "plt.ylabel('Loss')\n",
        "plt.title('Training Loss')\n",
        "plt.legend()\n",
        "plt.show()\n"
      ],
      "metadata": {
        "colab": {
          "base_uri": "https://localhost:8080/",
          "height": 544
        },
        "id": "68N76M8O9CXT",
        "outputId": "6895fe65-bd13-447a-b1ea-2d1d436b2e19"
      },
      "execution_count": 13,
      "outputs": [
        {
          "output_type": "stream",
          "name": "stdout",
          "text": [
            "Accuracy on the test set: 61.08%\n"
          ]
        },
        {
          "output_type": "stream",
          "name": "stderr",
          "text": [
            "/tmp/ipython-input-13-156115742.py:25: UserWarning: No artists with labels found to put in legend.  Note that artists whose label start with an underscore are ignored when legend() is called with no argument.\n",
            "  plt.legend()\n"
          ]
        },
        {
          "output_type": "display_data",
          "data": {
            "text/plain": [
              "<Figure size 640x480 with 1 Axes>"
            ],
            "image/png": "[encoded data removed]"
          },
          "metadata": {}
        }
      ]
    },
    {
      "cell_type": "code",
      "source": [],
      "metadata": {
        "id": "jJhcJaUl-CFn"
      },
      "execution_count": null,
      "outputs": []
    }
  ]
}