{
  "nbformat": 4,
  "nbformat_minor": 0,
  "metadata": {
    "colab": {
      "provenance": []
    },
    "kernelspec": {
      "name": "python3",
      "display_name": "Python 3"
    },
    "language_info": {
      "name": "python"
    }
  },
  "cells": [
    {
      "cell_type": "code",
      "execution_count": 1,
      "metadata": {
        "id": "ftjNIMeesyKq"
      },
      "outputs": [],
      "source": [
        "import tensorflow as tf"
      ]
    },
    {
      "cell_type": "code",
      "source": [
        "from tensorflow.keras.datasets import cifar10"
      ],
      "metadata": {
        "id": "ZrFsWhIEs37c"
      },
      "execution_count": 2,
      "outputs": []
    },
    {
      "cell_type": "code",
      "source": [
        "import torch\n",
        "import torch.nn as nn\n",
        "import torch.nn.functional as F"
      ],
      "metadata": {
        "id": "IMNF7w90s8JF"
      },
      "execution_count": 13,
      "outputs": []
    },
    {
      "cell_type": "code",
      "source": [
        "from torchvision import datasets, transforms\n",
        "from torch.utils.data import DataLoader"
      ],
      "metadata": {
        "id": "pFUc-O4ZtDCz"
      },
      "execution_count": 4,
      "outputs": []
    },
    {
      "cell_type": "markdown",
      "source": [
        "Define Transformations"
      ],
      "metadata": {
        "id": "dOnJLqTDtPxm"
      }
    },
    {
      "cell_type": "code",
      "source": [
        "transform=transforms.Compose([\n",
        "    transforms.ToTensor()\n",
        "    transforms.Normalize((0.5, 0.5, 0.5), (0.5, 0.5, 0.5))\n",
        "])"
      ],
      "metadata": {
        "id": "kDJdMrOwtON-"
      },
      "execution_count": 6,
      "outputs": []
    },
    {
      "cell_type": "markdown",
      "source": [
        "Load Dataset"
      ],
      "metadata": {
        "id": "ay7BUlgqunvd"
      }
    },
    {
      "cell_type": "code",
      "source": [
        "train_dataset=datasets.CIFAR10(root='./data', train=True, download=True, transform=transform)\n",
        "test_dataset=datasets.CIFAR10(root='./data', train=False, download=True, transform=transform)"
      ],
      "metadata": {
        "colab": {
          "base_uri": "https://localhost:8080/"
        },
        "id": "MauK1iOetzLE",
        "outputId": "2943a021-d0d7-4851-b244-66ac1aab0a77"
      },
      "execution_count": 7,
      "outputs": [
        {
          "output_type": "stream",
          "name": "stderr",
          "text": [
            "100%|██████████| 170M/170M [00:03<00:00, 47.9MB/s]\n"
          ]
        }
      ]
    },
    {
      "cell_type": "markdown",
      "source": [
        "Create DataLoaders"
      ],
      "metadata": {
        "id": "WZlQuOa4uFwe"
      }
    },
    {
      "cell_type": "code",
      "source": [
        "train_loader=DataLoader(train_dataset, batch_size=64, shuffle=True)\n",
        "test_loader=DataLoader(test_dataset, batch_size=64, shuffle=False)"
      ],
      "metadata": {
        "id": "RESc5xDauBTS"
      },
      "execution_count": 8,
      "outputs": []
    },
    {
      "cell_type": "code",
      "source": [
        "print(f'Training dataset size: {len(train_dataset)}')\n",
        "print(f'Testing dataset size: {len(test_dataset)}')"
      ],
      "metadata": {
        "colab": {
          "base_uri": "https://localhost:8080/"
        },
        "id": "hItpJ8KOuKwX",
        "outputId": "e49c13f8-537d-4d32-82dc-c3c3377128c1"
      },
      "execution_count": 11,
      "outputs": [
        {
          "output_type": "stream",
          "name": "stdout",
          "text": [
            "Training dataset size: 50000\n",
            "Testing dataset size: 10000\n"
          ]
        }
      ]
    },
    {
      "cell_type": "markdown",
      "source": [
        "Define a CNN Architecture"
      ],
      "metadata": {
        "id": "7CloMxLmupKb"
      }
    },
    {
      "cell_type": "code",
      "source": [
        "# Define a CNN by subclassing nn.Module\n",
        "class CNN(nn.Module):\n",
        "    def __init__(self):\n",
        "        super(CNN, self).__init__()\n",
        "\n",
        "        # First convolutional layer:\n",
        "        # - Input channels: 3 (RGB image)\n",
        "        # - Output channels: 6 feature maps\n",
        "        # - Kernel size: 5x5\n",
        "        self.conv1 = nn.Conv2d(3, 6, 5)\n",
        "\n",
        "        # Max pooling layer:\n",
        "        # - Kernel size: 2x2\n",
        "        # - Stride: 2\n",
        "        self.pool = nn.MaxPool2d(2, 2)\n",
        "\n",
        "        # Second convolutional layer:\n",
        "        # - Input: 6 channels from conv1\n",
        "        # - Output: 16 channels\n",
        "        # - Kernel size: 5x5\n",
        "        self.conv2 = nn.Conv2d(6, 16, 5)\n",
        "\n",
        "        # First fully connected (dense) layer:\n",
        "        # - Input: flattened tensor of size 16*5*5 (after conv and pooling)\n",
        "        # - Output: 120 neurons\n",
        "        self.fc1 = nn.Linear(16 * 5 * 5, 120)\n",
        "\n",
        "        # Second fully connected layer:\n",
        "        # - Input: 120 neurons\n",
        "        # - Output: 84 neurons\n",
        "        self.fc2 = nn.Linear(120, 84)\n",
        "\n",
        "        # Final output layer:\n",
        "        # - Input: 84 neurons\n",
        "        # - Output: 10 classes (e.g., CIFAR-10 classification)\n",
        "        self.fc3 = nn.Linear(84, 10)\n",
        "\n",
        "    def forward(self, x):\n",
        "        # Apply first conv layer + ReLU + MaxPool\n",
        "        x = self.pool(F.relu(self.conv1(x)))\n",
        "\n",
        "        # Apply second conv layer + ReLU + MaxPool\n",
        "        x = self.pool(F.relu(self.conv2(x)))\n",
        "\n",
        "        # Flatten the tensor to (batch_size, 16*5*5)\n",
        "        x = x.view(-1, 16 * 5 * 5)\n",
        "\n",
        "        # Apply first fully connected layer + ReLU\n",
        "        x = F.relu(self.fc1(x))\n",
        "\n",
        "        # Apply second fully connected layer + ReLU\n",
        "        x = F.relu(self.fc2(x))\n",
        "\n",
        "        # Apply final output layer (logits)\n",
        "        x = self.fc3(x)\n",
        "\n",
        "        return x\n"
      ],
      "metadata": {
        "id": "hFoeDjKcuRvL"
      },
      "execution_count": 22,
      "outputs": []
    },
    {
      "cell_type": "code",
      "source": [
        "model=CNN()\n",
        "print(model)"
      ],
      "metadata": {
        "colab": {
          "base_uri": "https://localhost:8080/"
        },
        "id": "G-aBTRLvwMga",
        "outputId": "81073e08-06d2-42d7-c14e-eae07842290f"
      },
      "execution_count": 15,
      "outputs": [
        {
          "output_type": "stream",
          "name": "stdout",
          "text": [
            "CNN(\n",
            "  (conv1): Conv2d(3, 6, kernel_size=(5, 5), stride=(1, 1))\n",
            "  (pool): MaxPool2d(kernel_size=2, stride=2, padding=0, dilation=1, ceil_mode=False)\n",
            "  (conv2): Conv2d(6, 16, kernel_size=(5, 5), stride=(1, 1))\n",
            "  (fc1): Linear(in_features=400, out_features=120, bias=True)\n",
            "  (fc2): Linear(in_features=120, out_features=84, bias=True)\n",
            "  (fc3): Linear(in_features=84, out_features=10, bias=True)\n",
            ")\n"
          ]
        }
      ]
    },
    {
      "cell_type": "markdown",
      "source": [
        "Define loss function and optimizer"
      ],
      "metadata": {
        "id": "Ie0b7i_hwc7k"
      }
    },
    {
      "cell_type": "code",
      "source": [
        "import torch.optim as optim\n"
      ],
      "metadata": {
        "id": "pwzy51vMwRkg"
      },
      "execution_count": 16,
      "outputs": []
    },
    {
      "cell_type": "code",
      "source": [
        "criterion=nn.CrossEntropyLoss()\n",
        "optimizer=optim.Adam(model.parameters(), lr=0.001)\n"
      ],
      "metadata": {
        "id": "tBy9Sz3owlIM"
      },
      "execution_count": 17,
      "outputs": []
    },
    {
      "cell_type": "markdown",
      "source": [
        "Training Loop"
      ],
      "metadata": {
        "id": "Lx9SYgx8w3Qw"
      }
    },
    {
      "cell_type": "code",
      "source": [
        "# Function to train a PyTorch model\n",
        "def train_model(model, train_loader, criterion, optimizer, epochs=10):\n",
        "    # Set the model to training mode (important for layers like Dropout or BatchNorm)\n",
        "    model.train()\n",
        "\n",
        "    # Loop over the number of epochs\n",
        "    for epoch in range(epochs):\n",
        "        running_loss = 0.0  # To accumulate the loss for the epoch\n",
        "\n",
        "        # Iterate over the training data loader\n",
        "        for images, labels in train_loader:\n",
        "            # Zero out gradients from the previous step\n",
        "            optimizer.zero_grad()\n",
        "\n",
        "            # Forward pass: get model predictions\n",
        "            outputs = model(images)\n",
        "\n",
        "            # Compute the loss between predictions and true labels\n",
        "            loss = criterion(outputs, labels)\n",
        "\n",
        "            # Backward pass: compute gradients\n",
        "            loss.backward()\n",
        "\n",
        "            # Optimizer step: update model parameters\n",
        "            optimizer.step()\n",
        "\n",
        "            # Accumulate the loss\n",
        "            running_loss += loss.item()\n",
        "\n",
        "        # Print average loss for the epoch\n",
        "        print(f'Epoch {epoch+1}, Loss: {running_loss / len(train_loader):.4f}')\n",
        "\n",
        "\n",
        "# Example call to the function\n",
        "train_model(model, train_loader, criterion, optimizer, epochs=10)\n"
      ],
      "metadata": {
        "colab": {
          "base_uri": "https://localhost:8080/"
        },
        "id": "4_9GTy-6w2tH",
        "outputId": "7ae6468d-01cf-43eb-d7b5-f6657c4e7ffd"
      },
      "execution_count": 19,
      "outputs": [
        {
          "output_type": "stream",
          "name": "stdout",
          "text": [
            "Epoch 1, Loss: 1.5780\n",
            "Epoch 2, Loss: 1.3383\n",
            "Epoch 3, Loss: 1.2163\n",
            "Epoch 4, Loss: 1.1376\n",
            "Epoch 5, Loss: 1.0738\n",
            "Epoch 6, Loss: 1.0206\n",
            "Epoch 7, Loss: 0.9785\n",
            "Epoch 8, Loss: 0.9313\n",
            "Epoch 9, Loss: 0.8960\n",
            "Epoch 10, Loss: 0.8587\n"
          ]
        }
      ]
    },
    {
      "cell_type": "markdown",
      "source": [
        "Evaluation Loop"
      ],
      "metadata": {
        "id": "v57HAr0dx9vF"
      }
    },
    {
      "cell_type": "code",
      "source": [
        "# Function to evaluate the trained model on the test set\n",
        "def evaluate_model(model, test_loader):\n",
        "    # Set the model to evaluation mode (deactivates Dropout, etc.)\n",
        "    model.eval()\n",
        "\n",
        "    correct = 0  # Counter for correct predictions\n",
        "    total = 0    # Counter for total samples\n",
        "\n",
        "    # Disable gradient calculation (saves memory and computation)\n",
        "    with torch.no_grad():\n",
        "        # Iterate over the test dataset\n",
        "        for images, labels in test_loader:\n",
        "            # Forward pass: get model predictions\n",
        "            outputs = model(images)\n",
        "\n",
        "            # Get predicted class (the one with highest probability)\n",
        "            _, predicted = torch.max(outputs, 1)\n",
        "\n",
        "            # Update total and correct counts\n",
        "            total += labels.size(0)\n",
        "            correct += (predicted == labels).sum().item()\n",
        "\n",
        "    # Compute accuracy\n",
        "    accuracy = 100 * correct / total\n",
        "    print(f'Accuracy on the test set: {accuracy:.2f}%')\n",
        "\n",
        "\n",
        "# Example usage of the function\n",
        "evaluate_model(model, test_loader)\n"
      ],
      "metadata": {
        "colab": {
          "base_uri": "https://localhost:8080/"
        },
        "id": "8jVEMZcTx2fB",
        "outputId": "e1ce3af8-939f-42bf-f3ed-754d5d543b9f"
      },
      "execution_count": 21,
      "outputs": [
        {
          "output_type": "stream",
          "name": "stdout",
          "text": [
            "Accuracy on the test set: 63.32%\n"
          ]
        }
      ]
    },
    {
      "cell_type": "code",
      "source": [],
      "metadata": {
        "id": "Qbjo030vzr08"
      },
      "execution_count": null,
      "outputs": []
    }
  ]
}