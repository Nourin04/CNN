{
  "nbformat": 4,
  "nbformat_minor": 0,
  "metadata": {
    "colab": {
      "provenance": []
    },
    "kernelspec": {
      "name": "python3",
      "display_name": "Python 3"
    },
    "language_info": {
      "name": "python"
    }
  },
  "cells": [
    {
      "cell_type": "markdown",
      "source": [
        "## Implement Max Pooling and Average Pooling layers on feature maps and observe their effects on size and representation"
      ],
      "metadata": {
        "id": "yFD9dTZPHh__"
      }
    },
    {
      "cell_type": "code",
      "execution_count": 1,
      "metadata": {
        "id": "jscnx3kUHb_M"
      },
      "outputs": [],
      "source": [
        "import numpy as np\n",
        "import matplotlib.pyplot as plt\n",
        "from scipy.ndimage import maximum_filter, uniform_filter"
      ]
    },
    {
      "cell_type": "code",
      "source": [
        "# create a sample feature map\n",
        "feature_map=np.array([\n",
        "    [1,2,3,0],\n",
        "    [4,5,6,1],\n",
        "    [7,8,9,2],\n",
        "    [0,1,2,3]\n",
        "])\n",
        "\n",
        "# Max pooling (2x2)\n",
        "max_pooled=maximum_filter(feature_map, size=2, mode='constant')\n",
        "\n",
        "# Average pooling (2x2)\n",
        "avg_pooled=uniform_filter(feature_map, size=2, mode='constant')\n",
        "\n",
        "# Plot\n",
        "fig, axes = plt.subplots(1, 3, figsize=(12, 4))   #1row, 4 columns\n",
        "axes[0].imshow(feature_map, cmap='viridis')\n",
        "axes[0].set_title('Original Map')\n",
        "axes[1].imshow(max_pooled, cmap='viridis')\n",
        "axes[1].set_title('Max Pooling')\n",
        "axes[2].imshow(avg_pooled, cmap='viridis')\n",
        "axes[2].set_title('Average Pooling')\n",
        "plt.show()"
      ],
      "metadata": {
        "colab": {
          "base_uri": "https://localhost:8080/",
          "height": 356
        },
        "id": "V0tlBR7LISGV",
        "outputId": "20ce5cc8-0039-4db6-cff3-23da95b383c1"
      },
      "execution_count": 2,
      "outputs": [
        {
          "output_type": "display_data",
          "data": {
            "text/plain": [
              "<Figure size 1200x400 with 3 Axes>"
            ],
            "image/png": "[encoded data removed]"
          },
          "metadata": {}
        }
      ]
    },
    {
      "cell_type": "code",
      "source": [
        "import tensorflow as tf"
      ],
      "metadata": {
        "id": "6wZ_0EtnIsIX"
      },
      "execution_count": 3,
      "outputs": []
    },
    {
      "cell_type": "code",
      "source": [
        "# create a sample input tensor (1x4x4x1 for batch_size, height, width, channels)\n",
        "input_tensor=tf.constant(feature_map.reshape(1,4,4,1), dtype=tf.float32)\n",
        "\n",
        "# Max Pooling\n",
        "max_pool=tf.keras.layers.MaxPooling2D(pool_size=(2,2), strides=2, padding='valid')\n",
        "max_pooled_tensor=max_pool(input_tensor)\n",
        "\n",
        "# Average Pooling\n",
        "avg_pool=tf.keras.layers.AveragePooling2D(pool_size=(2,2), strides=2, padding='valid')\n",
        "avg_pooled_tensor=avg_pool(input_tensor)\n",
        "\n",
        "print(\"Original Tensor Shape:\", input_tensor.shape)\n",
        "print(f'Max Pooled Tensor:\\n{tf.squeeze(max_pooled_tensor).numpy()}')\n",
        "print(\"Max Pooled Tensor Shape:\", max_pooled_tensor.shape)\n",
        "print(f'Average Pooled Tensor:\\n{tf.squeeze(avg_pooled_tensor).numpy()}')\n",
        "print(\"Average Pooled Tensor Shape:\", avg_pooled_tensor.shape)"
      ],
      "metadata": {
        "colab": {
          "base_uri": "https://localhost:8080/"
        },
        "id": "tWoRqXZBLd0U",
        "outputId": "b23d715f-3d54-4877-8d7f-188e6c29bcdd"
      },
      "execution_count": 4,
      "outputs": [
        {
          "output_type": "stream",
          "name": "stdout",
          "text": [
            "Original Tensor Shape: (1, 4, 4, 1)\n",
            "Max Pooled Tensor:\n",
            "[[5. 6.]\n",
            " [8. 9.]]\n",
            "Max Pooled Tensor Shape: (1, 2, 2, 1)\n",
            "Average Pooled Tensor:\n",
            "[[3.  2.5]\n",
            " [4.  4. ]]\n",
            "Average Pooled Tensor Shape: (1, 2, 2, 1)\n"
          ]
        }
      ]
    },
    {
      "cell_type": "code",
      "source": [
        "import torch\n",
        "import torch.nn as nn"
      ],
      "metadata": {
        "id": "JlMtteotM5m7"
      },
      "execution_count": 5,
      "outputs": []
    },
    {
      "cell_type": "code",
      "source": [
        "# create a sample input tensor (1x4x4x1 for batch_size, , channels height, width)\n",
        "input_torch=torch.tensor(feature_map, dtype=torch.float32).unsqueeze(0).unsqueeze(0)\n",
        "\n",
        "# Max Pooling\n",
        "max_pool1=nn.MaxPool2d(kernel_size=2, stride=2, padding=0)\n",
        "max_pooled_torch=max_pool1(input_torch)\n",
        "\n",
        "# Average Pooling\n",
        "avg_pool1=nn.AvgPool2d(kernel_size=2, stride=2, padding=0)\n",
        "avg_pooled_torch=avg_pool1(input_torch)\n",
        "\n",
        "print(\"Original Tensor Shape:\", input_torch.shape)\n",
        "print(f'Max Pooled Tensor:\\n{max_pooled_torch.squeeze().squeeze().numpy()}')\n",
        "print(\"Max Pooled Tensor Shape:\", max_pooled_torch.shape)\n",
        "print(f'Average Pooled Tensor:\\n{avg_pooled_torch.squeeze().squeeze().numpy()}')\n",
        "print(\"Average Pooled Tensor Shape:\", avg_pooled_torch.shape)"
      ],
      "metadata": {
        "colab": {
          "base_uri": "https://localhost:8080/"
        },
        "id": "bFfJqE0qNDYk",
        "outputId": "f2c4071d-c8ea-4a8f-e2bd-07e985946fa8"
      },
      "execution_count": 6,
      "outputs": [
        {
          "output_type": "stream",
          "name": "stdout",
          "text": [
            "Original Tensor Shape: torch.Size([1, 1, 4, 4])\n",
            "Max Pooled Tensor:\n",
            "[[5. 6.]\n",
            " [8. 9.]]\n",
            "Max Pooled Tensor Shape: torch.Size([1, 1, 2, 2])\n",
            "Average Pooled Tensor:\n",
            "[[3.  2.5]\n",
            " [4.  4. ]]\n",
            "Average Pooled Tensor Shape: torch.Size([1, 1, 2, 2])\n"
          ]
        }
      ]
    },
    {
      "cell_type": "markdown",
      "source": [
        "Tensorflow example"
      ],
      "metadata": {
        "id": "3ArEre5O8VbI"
      }
    },
    {
      "cell_type": "code",
      "source": [
        "# Define a Sequential model using the Keras API\n",
        "model_tf = tf.keras.Sequential([\n",
        "\n",
        "    # Input layer specifying the shape of the input images (32x32 RGB images)\n",
        "    tf.keras.Input(shape=(32, 32, 3)),\n",
        "\n",
        "    # First convolutional layer:\n",
        "    # - 32 filters (feature detectors)\n",
        "    # - Each filter is of size 3x3\n",
        "    # - 'relu' activation introduces non-linearity\n",
        "    tf.keras.layers.Conv2D(32, (3, 3), activation='relu'),\n",
        "\n",
        "    # First pooling layer (MaxPooling):\n",
        "    # - Reduces spatial dimensions by taking the maximum value over a 2x2 region\n",
        "    # - Helps in reducing computation and controlling overfitting\n",
        "    tf.keras.layers.MaxPooling2D((2, 2)),\n",
        "\n",
        "    # Second convolutional layer:\n",
        "    # - 64 filters of size 3x3\n",
        "    # - Again uses ReLU activation\n",
        "    tf.keras.layers.Conv2D(64, (3, 3), activation='relu'),\n",
        "\n",
        "    # Second pooling layer (AveragePooling):\n",
        "    # - Instead of max, it takes the average value in each 2x2 region\n",
        "    # - Useful for smoothing feature maps\n",
        "    tf.keras.layers.AveragePooling2D((2, 2)),\n",
        "])\n"
      ],
      "metadata": {
        "id": "jIOtASY7OFoC"
      },
      "execution_count": 9,
      "outputs": []
    },
    {
      "cell_type": "markdown",
      "source": [
        "Pytorch example"
      ],
      "metadata": {
        "id": "vWYHeJVD9FA1"
      }
    },
    {
      "cell_type": "code",
      "source": [
        "import torch\n",
        "import torch.nn as nn\n",
        "\n",
        "# Define a custom CNN class by subclassing nn.Module\n",
        "class SimpleCNN(nn.Module):\n",
        "    def __init__(self):\n",
        "        super(SimpleCNN, self).__init__()\n",
        "\n",
        "        # First convolutional layer:\n",
        "        # - Input has 3 channels (RGB image)\n",
        "        # - Outputs 32 feature maps\n",
        "        # - Kernel size of 3x3\n",
        "        self.conv1 = nn.Conv2d(in_channels=3, out_channels=32, kernel_size=3)\n",
        "\n",
        "        # First pooling layer:\n",
        "        # - Max pooling with 2x2 window\n",
        "        # - Stride of 2 (non-overlapping regions)\n",
        "        self.pool1 = nn.MaxPool2d(kernel_size=2, stride=2)\n",
        "\n",
        "        # Second convolutional layer:\n",
        "        # - Input has 32 channels (output of conv1)\n",
        "        # - Outputs 64 feature maps\n",
        "        # - Kernel size of 3x3\n",
        "        self.conv2 = nn.Conv2d(in_channels=32, out_channels=64, kernel_size=3)\n",
        "\n",
        "        # Second pooling layer:\n",
        "        # - Average pooling with 2x2 window\n",
        "        # - Stride of 2\n",
        "        self.pool2 = nn.AvgPool2d(kernel_size=2, stride=2)\n",
        "\n",
        "    # Define the forward pass\n",
        "    def forward(self, x):\n",
        "        # Apply first convolution + ReLU activation\n",
        "        x = torch.relu(self.conv1(x))\n",
        "\n",
        "        # Apply first max pooling\n",
        "        x = self.pool1(x)\n",
        "\n",
        "        # Apply second convolution + ReLU activation\n",
        "        x = torch.relu(self.conv2(x))\n",
        "\n",
        "        # Apply second average pooling\n",
        "        x = self.pool2(x)\n",
        "\n",
        "        return x\n"
      ],
      "metadata": {
        "id": "axOHxlQd9GkL"
      },
      "execution_count": 10,
      "outputs": []
    },
    {
      "cell_type": "code",
      "source": [],
      "metadata": {
        "id": "nVJTPKaN95-Q"
      },
      "execution_count": null,
      "outputs": []
    }
  ]
}