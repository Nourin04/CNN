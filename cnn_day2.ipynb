{
  "nbformat": 4,
  "nbformat_minor": 0,
  "metadata": {
    "colab": {
      "provenance": []
    },
    "kernelspec": {
      "name": "python3",
      "display_name": "Python 3"
    },
    "language_info": {
      "name": "python"
    }
  },
  "cells": [
    {
      "cell_type": "code",
      "execution_count": 1,
      "metadata": {
        "id": "3FrA2yex19hW"
      },
      "outputs": [],
      "source": [
        "import matplotlib.pyplot as plt\n",
        "import numpy as np\n",
        "from scipy.ndimage import convolve"
      ]
    },
    {
      "cell_type": "markdown",
      "source": [
        "Load a sample grayscale image"
      ],
      "metadata": {
        "id": "ZE1slKn82RNA"
      }
    },
    {
      "cell_type": "code",
      "source": [
        "image=np.random.rand(10,10)   #creates a sample grayscale image\n",
        "\n",
        "print(image)"
      ],
      "metadata": {
        "colab": {
          "base_uri": "https://localhost:8080/"
        },
        "id": "4rz2armL2KIY",
        "outputId": "6d3a4043-c60f-4440-c3df-cf60406b0deb"
      },
      "execution_count": 3,
      "outputs": [
        {
          "output_type": "stream",
          "name": "stdout",
          "text": [
            "[[9.84617319e-01 2.27768504e-01 9.43602168e-01 8.73775099e-01\n",
            "  4.97854431e-01 3.98575478e-01 3.68465496e-01 6.23132218e-01\n",
            "  3.25576742e-01 8.15199041e-01]\n",
            " [6.38053730e-01 5.16369944e-01 1.07538231e-01 9.93480522e-01\n",
            "  4.73707433e-01 9.33674220e-01 6.14549619e-01 2.60777631e-02\n",
            "  7.05693643e-01 7.76360579e-01]\n",
            " [7.27189654e-02 5.56662984e-01 4.50381149e-01 5.10169553e-01\n",
            "  2.05095048e-01 5.20298476e-01 5.38711640e-01 6.20602843e-01\n",
            "  5.38083612e-02 3.12475995e-01]\n",
            " [6.45631886e-01 5.34778267e-01 7.55889892e-01 3.64366590e-01\n",
            "  7.34086167e-01 7.72945701e-01 9.10183236e-03 1.42679531e-01\n",
            "  7.61838366e-01 2.97251859e-01]\n",
            " [5.76257373e-01 6.91952033e-02 3.34697457e-01 9.41761495e-01\n",
            "  2.73192423e-01 7.56430800e-01 2.51720806e-01 7.26631593e-04\n",
            "  8.28589793e-01 6.44526470e-01]\n",
            " [3.40979376e-01 7.39142775e-01 6.37823434e-01 4.57071997e-01\n",
            "  4.59289264e-01 3.45995910e-01 5.23715580e-01 9.27624806e-01\n",
            "  2.93507051e-01 9.52106757e-01]\n",
            " [6.52094378e-01 2.89394080e-01 3.55416279e-02 1.59353581e-01\n",
            "  5.55611687e-01 7.15640659e-01 7.99936801e-01 6.13917801e-01\n",
            "  2.85102045e-01 6.73960267e-01]\n",
            " [6.57695845e-02 7.19854327e-01 7.33590865e-01 2.76806973e-01\n",
            "  7.74465217e-01 8.37811678e-01 2.78342249e-01 4.34810452e-01\n",
            "  6.51021858e-01 7.55454631e-01]\n",
            " [7.38357853e-01 7.54442474e-01 8.81820460e-01 5.64962335e-01\n",
            "  5.32606880e-01 6.73771928e-01 7.34535047e-01 8.80733206e-01\n",
            "  5.56767989e-01 8.59730130e-01]\n",
            " [7.55384836e-01 8.12278122e-01 7.35633598e-01 3.73038481e-01\n",
            "  1.70745971e-01 6.74293385e-01 2.12712584e-01 6.15417241e-01\n",
            "  1.84005809e-01 8.75816118e-01]]\n"
          ]
        }
      ]
    },
    {
      "cell_type": "markdown",
      "source": [
        "Define convolution filters(kernels)"
      ],
      "metadata": {
        "id": "c6gPNq902oSq"
      }
    },
    {
      "cell_type": "code",
      "source": [
        "edge_detection_kernel=np.array([\n",
        "    [-1,-1,-1],\n",
        "    [-1,8,-1],\n",
        "    [-1,-1,-1]\n",
        "])\n",
        "\n",
        "blur_kernel=np.array([\n",
        "    [1,1,1],\n",
        "    [1,1,1],\n",
        "    [1,1,1]\n",
        "])/9    #normalizing for averaging\n",
        "\n",
        "\n",
        "sharpen_kernel=np.array([\n",
        "    [0,-1,0],\n",
        "    [-1,5,-1],\n",
        "    [0,-1,0]\n",
        "])"
      ],
      "metadata": {
        "id": "SRq_Cbuv2d_L"
      },
      "execution_count": 4,
      "outputs": []
    },
    {
      "cell_type": "markdown",
      "source": [
        "Apply convolution"
      ],
      "metadata": {
        "id": "GOJTwRON3WU_"
      }
    },
    {
      "cell_type": "code",
      "source": [
        "edge_detected_image=convolve(image,edge_detection_kernel)\n",
        "blurred_image=convolve(image,blur_kernel)\n",
        "sharpened_image=convolve(image,sharpen_kernel)"
      ],
      "metadata": {
        "id": "QzYTsWn93Vmk"
      },
      "execution_count": 5,
      "outputs": []
    },
    {
      "cell_type": "markdown",
      "source": [
        "Visualize original and filtered image"
      ],
      "metadata": {
        "id": "oWnJ45AN3iAH"
      }
    },
    {
      "cell_type": "code",
      "source": [
        "fig, axes = plt.subplots(1, 4, figsize=(12, 4))   #1row, 4 columns\n",
        "\n",
        "axes[0].imshow(image, cmap='gray')\n",
        "axes[0].set_title('Original Image')\n",
        "\n",
        "axes[1].imshow(edge_detected_image, cmap='gray')\n",
        "axes[1].set_title('Edge Detected Image')\n",
        "\n",
        "axes[2].imshow(blurred_image, cmap='gray')\n",
        "axes[2].set_title('Blurred Image')\n",
        "\n",
        "axes[3].imshow(sharpened_image, cmap='gray')\n",
        "axes[3].set_title('Sharpened Image')\n",
        "\n",
        "plt.tight_layout()\n",
        "plt.show()\n"
      ],
      "metadata": {
        "colab": {
          "base_uri": "https://localhost:8080/",
          "height": 345
        },
        "id": "IAgmktGY3ekE",
        "outputId": "35266f89-e434-4a7e-8c80-5ddd6e26b291"
      },
      "execution_count": 7,
      "outputs": [
        {
          "output_type": "display_data",
          "data": {
            "text/plain": [
              "<Figure size 1200x400 with 4 Axes>"
            ],
            "image/png": "[encoded data removed]"
          },
          "metadata": {}
        }
      ]
    },
    {
      "cell_type": "markdown",
      "source": [
        "Implement Convolution using TensorFlow"
      ],
      "metadata": {
        "id": "PA0Yuqvf4uNR"
      }
    },
    {
      "cell_type": "code",
      "source": [
        "import tensorflow as tf"
      ],
      "metadata": {
        "id": "NIVlAe9r4WMj"
      },
      "execution_count": 8,
      "outputs": []
    },
    {
      "cell_type": "code",
      "source": [
        "#create a sample input tensor (batch_size, height, width, channels)\n",
        "image_tensor=tf.random.normal([1, 10, 10, 1])\n",
        "\n",
        "#define a convolutional layer\n",
        "conv_layer=tf.keras.layers.Conv2D(filters=1,\n",
        "                                  kernel_size=(3,3),\n",
        "                                  padding='same',\n",
        "                                  activation='relu')\n",
        "\n",
        "#apply convolution\n",
        "output_tensor=conv_layer(image_tensor)\n",
        "\n",
        "\n",
        "print(f\"Original Shape:{image_tensor.shape}\")\n",
        "print(f\"Output Shape:{output_tensor.shape}\")"
      ],
      "metadata": {
        "colab": {
          "base_uri": "https://localhost:8080/"
        },
        "id": "P6yaldse41gk",
        "outputId": "01f0f17b-c9b5-4332-cc88-9f9933d6c5b7"
      },
      "execution_count": 19,
      "outputs": [
        {
          "output_type": "stream",
          "name": "stdout",
          "text": [
            "Original Shape:(1, 10, 10, 1)\n",
            "Output Shape:(1, 10, 10, 1)\n"
          ]
        }
      ]
    },
    {
      "cell_type": "markdown",
      "source": [
        "Implement Convolution using PyTorch"
      ],
      "metadata": {
        "id": "YD9Q8BS56EY-"
      }
    },
    {
      "cell_type": "code",
      "source": [
        "import torch\n",
        "import torch.nn as nn"
      ],
      "metadata": {
        "id": "H2R2r5ye5zxN"
      },
      "execution_count": 11,
      "outputs": []
    },
    {
      "cell_type": "code",
      "source": [
        "#create a sample input tensor (batch_size,channels, height, width)\n",
        "image_tensor_pt=torch.randn(1,1,10,10)\n",
        "\n",
        "#define a convolutional layer\n",
        "conv_layer=nn.Conv2d(in_channels=1,\n",
        "                     out_channels=1,\n",
        "                     kernel_size=3,\n",
        "                     stride=1,\n",
        "                     padding='same')\n",
        "\n",
        "#apply convolution\n",
        "output_tensor_pt=conv_layer(image_tensor_pt)\n",
        "\n",
        "print(f\"Original Shape:{image_tensor_pt.shape}\")\n",
        "print(f\"Output Shape:{output_tensor_pt.shape}\")\n"
      ],
      "metadata": {
        "colab": {
          "base_uri": "https://localhost:8080/"
        },
        "id": "LoVxcKPj6KBD",
        "outputId": "f2b3168d-c64c-49af-a9a2-4fa0719dfa27"
      },
      "execution_count": 20,
      "outputs": [
        {
          "output_type": "stream",
          "name": "stdout",
          "text": [
            "Original Shape:torch.Size([1, 1, 10, 10])\n",
            "Output Shape:torch.Size([1, 1, 10, 10])\n"
          ]
        }
      ]
    },
    {
      "cell_type": "markdown",
      "source": [
        "TensorFlow example"
      ],
      "metadata": {
        "id": "GwIp9X227ACU"
      }
    },
    {
      "cell_type": "code",
      "source": [
        "#define a convolutional layer\n",
        "conv_layer_large=tf.keras.layers.Conv2D(filters=1,\n",
        "                                  kernel_size=(5,5),\n",
        "                                  strides=(1,1),\n",
        "                                  padding='same',\n",
        "                                  activation='relu')\n",
        "\n",
        "output_tensor_large=conv_layer_large(image_tensor)\n",
        "\n",
        "print(f\"Original Shape:{image_tensor.shape}\")\n",
        "print(f\"Output Shape:{output_tensor_large.shape}\")"
      ],
      "metadata": {
        "colab": {
          "base_uri": "https://localhost:8080/"
        },
        "id": "XyoZSCfS6t2A",
        "outputId": "6b926031-a62b-4543-b6f6-1013e03feeab"
      },
      "execution_count": 21,
      "outputs": [
        {
          "output_type": "stream",
          "name": "stdout",
          "text": [
            "Original Shape:(1, 10, 10, 1)\n",
            "Output Shape:(1, 10, 10, 1)\n"
          ]
        }
      ]
    },
    {
      "cell_type": "markdown",
      "source": [
        "PyTorch example"
      ],
      "metadata": {
        "id": "KfNxcCv_7ebp"
      }
    },
    {
      "cell_type": "code",
      "source": [
        "conv_layer_large_pt=nn.Conv2d(in_channels=1,\n",
        "                     out_channels=1,\n",
        "                     kernel_size=3,\n",
        "                     stride=2,\n",
        "                     padding=1)\n",
        "\n",
        "output_tensor_large_pt=conv_layer_large_pt(image_tensor_pt)\n",
        "\n",
        "print(f\"Original Shape:{image_tensor_pt.shape}\")\n",
        "print(f\"Output Shape:{output_tensor_large_pt.shape}\")\n",
        "#"
      ],
      "metadata": {
        "colab": {
          "base_uri": "https://localhost:8080/"
        },
        "id": "TDBDkvpz7ZpQ",
        "outputId": "b40cf5e8-962c-4e1e-a44f-3d0a3b8c12b2"
      },
      "execution_count": 22,
      "outputs": [
        {
          "output_type": "stream",
          "name": "stdout",
          "text": [
            "Original Shape:torch.Size([1, 1, 10, 10])\n",
            "Output Shape:torch.Size([1, 1, 5, 5])\n"
          ]
        }
      ]
    },
    {
      "cell_type": "code",
      "source": [],
      "metadata": {
        "id": "C-d3dDOc7qnu"
      },
      "execution_count": null,
      "outputs": []
    }
  ]
}